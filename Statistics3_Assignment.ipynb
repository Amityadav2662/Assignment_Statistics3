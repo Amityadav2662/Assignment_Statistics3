{
 "cells": [
  {
   "cell_type": "code",
   "execution_count": null,
   "id": "ce71a8ea-6e24-4970-a763-48c749bf0ba2",
   "metadata": {},
   "outputs": [],
   "source": [
    "# Q1. What is the Probability density function?\n",
    "Ans.\n",
    "A probability density function (PDF) is a function that describes the probability of a continuous random \n",
    "variable taking on a certain value. It is often used in statistics to model the distribution of data.\n",
    "The PDF of a continuous random variable is defined as the limit of the relative frequency of a value as the\n",
    "number of observations tends to infinity. In other words, the PDF tells us how likely it is that a continuous\n",
    "random variable will take on a certain value."
   ]
  },
  {
   "cell_type": "code",
   "execution_count": null,
   "id": "3087e048-71d5-4a22-841a-390b5b3e25f5",
   "metadata": {},
   "outputs": [],
   "source": [
    "# Q2. What are the types of Probability distribution?\n",
    "Ans.\n",
    "There are some types of Probability distribution:\n",
    "1. Normal/Gaussian Distribution\n",
    "2. Bernoulli Distribution\n",
    "3. Uniform Distribution\n",
    "4. Poisson Distribution\n",
    "5. log Normal Distribution\n",
    "6. Bionomial Distribution"
   ]
  },
  {
   "cell_type": "code",
   "execution_count": 2,
   "id": "6ee663ea-dc3a-4809-ac38-88ffcbd45682",
   "metadata": {},
   "outputs": [
    {
     "name": "stdout",
     "output_type": "stream",
     "text": [
      "0.12951759566589174\n"
     ]
    }
   ],
   "source": [
    "# Q3. Write a Python function to calculate the probability density function of a normal distribution with\n",
    "# given mean and standard deviation at a given point.\n",
    "from scipy.stats import norm\n",
    "\n",
    "def normal_dis(x,mean,stand_dev):\n",
    "    pdf = norm.pdf(x, loc= mean, scale= stand_dev)\n",
    "    return pdf\n",
    "\n",
    "x = 0.5\n",
    "mean = 2\n",
    "stand_dev = 1\n",
    "pdf_func = normal_dis(x,mean,stand_dev)\n",
    "print(pdf_func)"
   ]
  },
  {
   "cell_type": "code",
   "execution_count": null,
   "id": "5e972e89-b48a-442d-82cc-9e6665957225",
   "metadata": {},
   "outputs": [],
   "source": [
    "# Q4. What are the properties of Binomial distribution? Give two examples of events where binomial\n",
    "# distribution can be applied.\n",
    "Ans.\n",
    "The properties of Binomial Distribution\n",
    "1. Every experiment outcome is binary.\n",
    "2. These experiment is performed for n trails\n",
    "3. Discrete random variable.\n",
    "\n",
    "The two Examples of event where binomial distribution can be applied.\n",
    "Example 1 : Tossing a coin in 10 times\n",
    "Example 2 : Attemping to fail / pass in exam "
   ]
  },
  {
   "cell_type": "code",
   "execution_count": 33,
   "id": "c4ab2d88-dd90-4fb5-b827-6efdc9999154",
   "metadata": {},
   "outputs": [
    {
     "data": {
      "image/png": "[encoded data removed]",
      "text/plain": [
       "<Figure size 640x480 with 1 Axes>"
      ]
     },
     "metadata": {},
     "output_type": "display_data"
    }
   ],
   "source": [
    "# Q5. Generate a random sample of size 1000 from a binomial distribution with probability of success 0.4\n",
    "# and plot a histogram of the results using matplotlib.\n",
    "import numpy as np\n",
    "import matplotlib.pyplot as plt\n",
    "\n",
    "bio = np.random.binomial(n=1, p=0.4, size=1000)\n",
    "plt.hist(bio, color=\"orange\", alpha=0.8,bins=2)\n",
    "plt.xlabel(\"Success and failure\")\n",
    "plt.ylabel(\"Random Number\")\n",
    "plt.title(\"Binomial Distribution\")\n",
    "plt.show()"
   ]
  },
  {
   "cell_type": "code",
   "execution_count": 38,
   "id": "10baaafe-bfef-4bc2-897e-0ad576a0c10f",
   "metadata": {},
   "outputs": [
    {
     "name": "stdout",
     "output_type": "stream",
     "text": [
      "0.40600584970983794\n"
     ]
    }
   ],
   "source": [
    "# Q6. Write a Python function to calculate the cumulative distribution function of a Poisson distribution\n",
    "# with given mean at a given point.\n",
    "from scipy.stats import poisson\n",
    "\n",
    "def possian_dis(x,mean):\n",
    "    cdf = poisson.cdf(x, mu=mean)\n",
    "    return cdf\n",
    "\n",
    "x = 1\n",
    "mean = 2\n",
    "cumulative_dist = possian_dis(x,mean)\n",
    "print(cumulative_dist)"
   ]
  },
  {
   "cell_type": "code",
   "execution_count": null,
   "id": "b18ba465-0f48-4003-ac8c-5cd952812586",
   "metadata": {},
   "outputs": [],
   "source": [
    "# Q7. How Binomial distribution different from Poisson distribution?\n",
    "Ans.\n",
    "Binomial Distribution:\n",
    "a. The Binomial distribution models a fixed number of independent trials, denoted as 'n'.\n",
    "b. Each trial in the Binomial distribution has two possible outcomes such as success or failure.\n",
    "c. The number of trials 'n' is predetermined and remains constant throughout the experiment.\n",
    "\n",
    "Poisson Distribution:\n",
    "a. The Poisson distribution describe the number of events occurring in a fixed time interval .\n",
    "b. The events in the Poisson distribution are not divided into individual trials like the Binomial distribution.\n",
    "c. The number of events occurring in the interval is random and can vary."
   ]
  },
  {
   "cell_type": "code",
   "execution_count": 53,
   "id": "8725bb21-a1c3-45c7-ae9b-17b4c10758c4",
   "metadata": {},
   "outputs": [
    {
     "name": "stdout",
     "output_type": "stream",
     "text": [
      "4.931\n",
      "4.6142389999999995\n"
     ]
    }
   ],
   "source": [
    "# Q8. Generate a random sample of size 1000 from a Poisson distribution with mean 5 and calculate the\n",
    "# sample mean and variance.\n",
    "import numpy as np\n",
    "poss_lam = np.random.poisson(lam = 5, size=1000)\n",
    "\n",
    "sample_mean = np.mean(poss_lam)\n",
    "sample_variance = np.var(poss_lam)\n",
    "\n",
    "print(sample_mean)\n",
    "print(sample_variance)"
   ]
  },
  {
   "cell_type": "code",
   "execution_count": null,
   "id": "2bd7a647-f912-4ba3-94b1-82eec6e09540",
   "metadata": {},
   "outputs": [],
   "source": [
    "# Q9. How mean and variance are related in Binomial distribution and Poisson distribution?\n",
    "Ans.\n",
    "1. Binomial Distribution:\n",
    "In a Binomial distribution, if the number of trials is fixed (n) and the probability of success remains constant\n",
    "(p), then the mean and variance are related as follows:\n",
    "\n",
    "mean = n * p\n",
    "variance = n * p * (1 - p)\n",
    "\n",
    "The mean of the binomial is equal to number of trials 'n' and the success probability for each trial 'p'. The variance \n",
    "Binomial is equal to the number of trials 'n', the success probability for each trial'p', and the failure of the \n",
    "probability '1 - p'.\n",
    "\n",
    "2. Poisson Distribution:\n",
    "In a Poisson distribution, the mean and variance are equal:\n",
    "mean = lam * t\n",
    "variance = lam * t\n",
    "\n",
    "The mean of the poisson is equal to parameter lambda, which represent the average rate and t represent time. The variance\n",
    "of the poisson is equal to parameter lambda, which represent the average rate and t represent time. basically, In poisson\n",
    "distribution both are same."
   ]
  },
  {
   "cell_type": "code",
   "execution_count": null,
   "id": "bed168d7-1ecd-40b1-aba5-6e3c721ae728",
   "metadata": {},
   "outputs": [],
   "source": [
    "# Q10. In normal distribution with respect to mean position, where does the least frequent data appear?\n",
    "Ans.\n",
    "In a normal distribution, the least frequent data points appear in the tails of the distribution, which are the regions\n",
    "farther away from the mean.\n",
    "\n",
    "A normal distribution is symmetric around its mean, with the highest frequency or density of data points occurring at the\n",
    "mean. As you move away from the mean in either direction, the frequency or density of data points gradually decreases in a\n",
    "smooth, symmetric fashion."
   ]
  }
 ],
 "metadata": {
  "kernelspec": {
   "display_name": "Python 3 (ipykernel)",
   "language": "python",
   "name": "python3"
  },
  "language_info": {
   "codemirror_mode": {
    "name": "ipython",
    "version": 3
   },
   "file_extension": ".py",
   "mimetype": "text/x-python",
   "name": "python",
   "nbconvert_exporter": "python",
   "pygments_lexer": "ipython3",
   "version": "3.10.8"
  }
 },
 "nbformat": 4,
 "nbformat_minor": 5
}
